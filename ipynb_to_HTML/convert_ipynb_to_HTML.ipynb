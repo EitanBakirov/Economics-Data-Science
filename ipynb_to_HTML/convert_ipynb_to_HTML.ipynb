{
  "nbformat": 4,
  "nbformat_minor": 0,
  "metadata": {
    "colab": {
      "name": "Convert ipynb to HTML in Colab.ipynb",
      "provenance": [],
      "include_colab_link": true
    },
    "kernelspec": {
      "name": "python3",
      "display_name": "Python 3"
    },
    "language_info": {
      "name": "python"
    }
  },
  "cells": [
    {
      "cell_type": "markdown",
      "metadata": {
        "id": "view-in-github",
        "colab_type": "text"
      },
      "source": [
        "<a href=\"https://colab.research.google.com/github/EitanBakirov/Economics-Data-Science/blob/main/ipynb_to_HTML/convert_ipynb_to_HTML.ipynb\" target=\"_parent\"><img src=\"https://colab.research.google.com/assets/colab-badge.svg\" alt=\"Open In Colab\"/></a>"
      ]
    },
    {
      "cell_type": "markdown",
      "source": [
        "# Convert from .ipynb file to a simple .HTML file\n",
        "This code converts the selected .ipynb file to a simple .HTML file and automatically downloads it to your computer.<br><br>\n",
        "\n",
        "\n",
        "**Instructions**:    \n",
        "1. Download the ipynb, which you want to convert, on your local computer.    \n",
        "2. Run the code below to upload the ipynb.  \n",
        "3. The html version will be downloaded automatically on your local machine.\n",
        "\n",
        "Enjoy it!"
      ],
      "metadata": {
        "id": "OOUwSOZ4AqyT"
      }
    },
    {
      "cell_type": "code",
      "source": [
        "from google.colab import files\n",
        "import nbformat\n",
        "from nbconvert import HTMLExporter\n",
        "import subprocess\n",
        "\n",
        "# Upload the ipynb file\n",
        "uploaded = files.upload()\n",
        "\n",
        "# Install nbconvert if not already installed\n",
        "subprocess.run([\"pip\", \"install\", \"nbconvert\"])\n",
        "\n",
        "# Get the uploaded file name\n",
        "notebook_filename = next(iter(uploaded))\n",
        "\n",
        "# Read the notebook content\n",
        "with open(notebook_filename, 'r', encoding='utf-8') as f:\n",
        "    notebook_content = nbformat.read(f, as_version=4)\n",
        "\n",
        "# Convert notebook to HTML\n",
        "html_exporter = HTMLExporter()\n",
        "(html_data, resources) = html_exporter.from_notebook_node(notebook_content)\n",
        "\n",
        "# Get the notebook name without extension\n",
        "notebook_name = notebook_filename.split('.')[0]\n",
        "\n",
        "# Replace or insert the title tag with the notebook filename\n",
        "if '<title>' in html_data and '</title>' in html_data:\n",
        "    html_data = html_data.replace(\n",
        "        html_data.split('<title>')[1].split('</title>')[0], notebook_name\n",
        "    )\n",
        "else:\n",
        "    html_data = html_data.replace('<head>', '<head><title>' + notebook_name + '</title>')\n",
        "\n",
        "# Save the HTML to a file\n",
        "html_filename = f\"{notebook_name}.html\"\n",
        "with open(html_filename, 'w', encoding='utf-8') as f:\n",
        "    f.write(html_data)\n",
        "\n",
        "# Download the HTML file\n",
        "files.download(html_filename)"
      ],
      "metadata": {
        "id": "cu4y_OXthP83"
      },
      "execution_count": null,
      "outputs": []
    }
  ]
}