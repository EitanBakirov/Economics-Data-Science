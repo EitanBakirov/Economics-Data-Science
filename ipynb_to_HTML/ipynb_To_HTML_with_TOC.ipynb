{
  "nbformat": 4,
  "nbformat_minor": 0,
  "metadata": {
    "colab": {
      "provenance": [],
      "authorship_tag": "ABX9TyNxygC+ZBuctMNVrXzrFOv0",
      "include_colab_link": true
    },
    "kernelspec": {
      "name": "python3",
      "display_name": "Python 3"
    },
    "language_info": {
      "name": "python"
    }
  },
  "cells": [
    {
      "cell_type": "markdown",
      "metadata": {
        "id": "view-in-github",
        "colab_type": "text"
      },
      "source": [
        "<a href=\"https://colab.research.google.com/github/EitanBakirov/Economics-Data-Science/blob/main/ipynb_To_HTML_with_TOC.ipynb\" target=\"_parent\"><img src=\"https://colab.research.google.com/assets/colab-badge.svg\" alt=\"Open In Colab\"/></a>"
      ]
    },
    {
      "cell_type": "markdown",
      "source": [
        "This code will convert the notebook it is being run on to HTML and add an interactive Table of Contents.\n",
        "\n",
        "https://pretty-jupyter.readthedocs.io/en/latest/index.html\n",
        "\n",
        "https://github.com/JanPalasek/pretty-jupyter"
      ],
      "metadata": {
        "id": "gtTfghzjl_aV"
      }
    },
    {
      "cell_type": "code",
      "execution_count": null,
      "metadata": {
        "id": "o6ktJoJ-l0d_"
      },
      "outputs": [],
      "source": [
        "pip install pretty-jupyter"
      ]
    },
    {
      "cell_type": "code",
      "source": [
        "# Replace '/content/drive/My Drive/path/to/your/notebook.ipynb' with your actual notebook path\n",
        "notebook_path = '/content/drive/My Drive/path/to/your/notebook.ipynb'\n",
        "\n",
        "# Run nbconvert command\n",
        "!jupyter nbconvert --to html --template pj \"$notebook_path\""
      ],
      "metadata": {
        "id": "LOpDMBtml7-c"
      },
      "execution_count": null,
      "outputs": []
    }
  ]
}
